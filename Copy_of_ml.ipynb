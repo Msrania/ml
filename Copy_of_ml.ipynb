{
  "cells": [
    {
      "cell_type": "markdown",
      "metadata": {
        "id": "WVsdljH8dav8"
      },
      "source": []
    },
    {
      "cell_type": "markdown",
      "metadata": {
        "id": "T1bEkrqhrsGi"
      },
      "source": [
        " libraries"
      ]
    },
    {
      "cell_type": "code",
      "execution_count": null,
      "metadata": {
        "id": "K1E_LhINap87"
      },
      "outputs": [],
      "source": [
        "# lib for linear algebra\n",
        "import numpy as np\n",
        "import matplotlib.pyplot as plt\n",
        "# processing\n",
        "import pandas as pd\n",
        "# data visualization\n",
        "# to see data\n",
        "import seaborn as sns\n",
        "from sklearn.linear_model import SGDOneClassSVM\n",
        "from sklearn import preprocessing\n",
        "# to measure accuracy\n",
        "from sklearn.metrics import accuracy_score\n",
        "from sklearn.metrics import confusion_matrix\n",
        "from sklearn import metrics\n",
        "from sklearn.model_selection import train_test_split\n",
        "from sklearn.ensemble import BaggingClassifier\n",
        "from sklearn.multiclass import OneVsRestClassifier\n",
        "from sklearn.svm import SVC\n",
        "\n"
      ]
    },
    {
      "cell_type": "markdown",
      "metadata": {
        "id": "Mh0md_elvy2w"
      },
      "source": [
        " read data "
      ]
    },
    {
      "cell_type": "code",
      "execution_count": null,
      "metadata": {
        "id": "Wcz-19EtECOT"
      },
      "outputs": [],
      "source": [
        "from google.colab import drive\n",
        "drive.mount('/content/drive')"
      ]
    },
    {
      "cell_type": "code",
      "execution_count": null,
      "metadata": {
        "id": "ZDLicrmPttw3"
      },
      "outputs": [],
      "source": [
        "# use pandas to process data in our dataset\n",
        "weather_data= pd.read_csv('drive/MyDrive/Colab Notebooks/dataset/weatherAUS.csv')\n",
        "# to print dataset\n",
        "weather_data"
      ]
    },
    {
      "cell_type": "code",
      "execution_count": null,
      "metadata": {
        "id": "1B8IlkR0rZvi"
      },
      "outputs": [],
      "source": [
        "weather_data= pd.read_csv('drive/MyDrive/Colab Notebooks/dataset/weatherAUS.csv')\n",
        "#to illustrate number of columns and rows\n",
        "print('size of weather data frame is :',weather_data.shape)\n",
        "print('____________________________________________________________')\n",
        "#to show more information about dataset\n",
        "weather_data.info()"
      ]
    },
    {
      "cell_type": "markdown",
      "metadata": {
        "id": "26ADwL1p1tql"
      },
      "source": [
        "after we read dataset we going to prapere data + handling the missing values"
      ]
    },
    {
      "cell_type": "markdown",
      "metadata": {
        "id": "hccxBrpyej_h"
      },
      "source": [
        "finding categorical features\n",
        "\n",
        "\n"
      ]
    },
    {
      "cell_type": "code",
      "execution_count": null,
      "metadata": {
        "id": "0mFS_DfjehMN"
      },
      "outputs": [],
      "source": [
        "# Categorical features in Dataset\n",
        "features1 = [column_name for column_name in weather_data.columns if weather_data[column_name].dtype == 'O']\n",
        "print(\"Number of Categorical Features is: {}\".format(len(features1)))\n",
        "print(\"Categorical Features is: \",features1)"
      ]
    },
    {
      "cell_type": "code",
      "execution_count": null,
      "metadata": {
        "id": "AS6nAAk6Ztca"
      },
      "outputs": [],
      "source": [
        "# Numerical Features in Dataset\n",
        "features2 = [column_name for column_name in weather_data.columns if weather_data[column_name].dtype != 'O']\n",
        "print(\"Number of Numerical Features is: {}\".format(len(features2)))\n",
        "print(\"Numerical Features is: \",features2)"
      ]
    },
    {
      "cell_type": "code",
      "source": [
        "\n",
        "weather_data.nunique().plot.bar(figsize=(12,6))\n",
        "plt.ylabel(\"number of unique catrgories\")\n",
        "plt.xlabel(\"variables\")\n",
        "plt.title(\"cardinality check\")\n",
        "plt.show()"
      ],
      "metadata": {
        "id": "mfctuDUyusyO"
      },
      "execution_count": null,
      "outputs": []
    },
    {
      "cell_type": "code",
      "execution_count": null,
      "metadata": {
        "id": "hPZNyN7Kacn7"
      },
      "outputs": [],
      "source": [
        "#Cardinality check\n",
        "for each_feature in features1:\n",
        "   value = len(weather_data[each_feature].unique())\n",
        "   print(\"Cardinality of {} are: {}\".format(each_feature, value))"
      ]
    },
    {
      "cell_type": "code",
      "execution_count": null,
      "metadata": {
        "id": "02jMT--AcjG-"
      },
      "outputs": [],
      "source": [
        "#Feature Engineering of Date column to decrease high cardinality\n",
        "weather_data['Date'] = pd.to_datetime(weather_data['Date'])\n",
        "weather_data['year'] = weather_data['Date'].dt.year\n",
        "weather_data['month'] = weather_data['Date'].dt.month\n",
        "weather_data['day'] = weather_data['Date'].dt.day\n"
      ]
    },
    {
      "cell_type": "code",
      "execution_count": null,
      "metadata": {
        "id": "Jo7H5hXPc5VN"
      },
      "outputs": [],
      "source": [
        "#Drop Date column\n",
        "weather_data.drop('Date', axis = 1, inplace = True)\n",
        "weather_data.head()"
      ]
    },
    {
      "cell_type": "code",
      "execution_count": null,
      "metadata": {
        "id": "ClDYaJ_-t2OR"
      },
      "outputs": [],
      "source": [
        "# we goint to compute the loss in each these four attribute in percentage \n",
        "null_values=[(i,weather_data[i].isna().mean()*100)for i in weather_data]\n",
        "null=pd.DataFrame(null_values,columns=['column','%'])"
      ]
    },
    {
      "cell_type": "code",
      "execution_count": null,
      "metadata": {
        "id": "Q-9tzcmot3gR"
      },
      "outputs": [],
      "source": [
        "null[null['%']>15].sort_values('%')"
      ]
    },
    {
      "cell_type": "code",
      "execution_count": null,
      "metadata": {
        "id": "uU65_vrneajs"
      },
      "outputs": [],
      "source": [
        "categorical_features = [column_name for column_name in weather_data.columns if weather_data[column_name].dtype == 'O']\n",
        "weather_data[categorical_features].isnull().sum()\n"
      ]
    },
    {
      "cell_type": "code",
      "execution_count": null,
      "metadata": {
        "id": "OAzrAtpPeuGJ"
      },
      "outputs": [],
      "source": [
        "# Imputing the missing values in categorical features using the most frequent value which is mode\n",
        "categorical_features_with_null = [feature for feature in categorical_features if weather_data[feature].isnull().sum()]\n",
        "for each_feature in categorical_features_with_null:\n",
        "    mode_val = weather_data[each_feature].mode()[0]\n",
        "    weather_data[each_feature].fillna(mode_val,inplace=True)"
      ]
    },
    {
      "cell_type": "code",
      "execution_count": null,
      "metadata": {
        "id": "CvZ76uNKgzmB"
      },
      "outputs": [],
      "source": [
        "weather_data.head()"
      ]
    },
    {
      "cell_type": "code",
      "execution_count": null,
      "metadata": {
        "id": "9ZkjCAz0hDgp"
      },
      "outputs": [],
      "source": [
        "# the null values after Imputing the missing values in categorical features\n",
        "weather_data[categorical_features].isnull().sum()"
      ]
    },
    {
      "cell_type": "code",
      "execution_count": null,
      "metadata": {
        "id": "qCFbmQ7mhsXx"
      },
      "outputs": [],
      "source": [
        "#Handling Missing values in Numerical features\n",
        "numerical_features = [column_name for column_name in weather_data.columns if weather_data[column_name].dtype != 'O']\n",
        "weather_data[numerical_features].isnull().sum()"
      ]
    },
    {
      "cell_type": "code",
      "execution_count": null,
      "metadata": {
        "id": "nMWCS7HYlqjt"
      },
      "outputs": [],
      "source": [
        "#If you want to impute the missing values with mean values, then outliers in numerical features need to be addressed properly\n",
        "# draw boxplots to visualize outliers\n",
        "\n",
        "\n",
        "plt.figure(figsize=(15,10))\n",
        "\n",
        "\n",
        "plt.subplot(2, 2, 1)\n",
        "fig = sns.boxplot(x=weather_data[\"Rainfall\"])\n",
        "fig.set_title('')\n",
        "fig.set_ylabel('Rainfall')\n",
        "\n",
        "\n",
        "plt.subplot(2, 2, 2)\n",
        "fig = sns.boxplot(x=weather_data[\"Evaporation\"])\n",
        "fig.set_title('')\n",
        "fig.set_ylabel('Evaporation')\n",
        "\n",
        "\n",
        "plt.subplot(2, 2, 3)\n",
        "fig = sns.boxplot(x=weather_data[\"WindSpeed9am\"])\n",
        "fig.set_title('')\n",
        "fig.set_ylabel('WindSpeed9am')\n",
        "\n",
        "\n",
        "plt.subplot(2, 2, 4)\n",
        "fig = sns.boxplot(x=weather_data[\"WindSpeed3pm\"])\n",
        "fig.set_title('')\n",
        "fig.set_ylabel('WindSpeed3pm')\n",
        "\n",
        "\n"
      ]
    },
    {
      "cell_type": "code",
      "execution_count": null,
      "metadata": {
        "id": "NZwqTLVdqJsa"
      },
      "outputs": [],
      "source": [
        "\n",
        "\n",
        "plt.figure(figsize=(15,10))\n",
        "\n",
        "plt.subplot(2, 2, 1)\n",
        "fig = sns.boxplot(x=weather_data[\"Pressure9am\"])\n",
        "fig.set_title('')\n",
        "fig.set_ylabel(\"Pressure9am\")\n",
        "\n",
        "plt.subplot(2, 2, 2)\n",
        "fig = sns.boxplot(x=weather_data[\"Pressure3pm\"])\n",
        "fig.set_title('')\n",
        "fig.set_ylabel(\"Pressure3pm\")\n",
        "\n",
        "plt.subplot(2, 2, 3)\n",
        "fig = sns.boxplot(x=weather_data[\"Temp9am\"])\n",
        "fig.set_title('')\n",
        "fig.set_ylabel(\"Temp9am\")\n",
        "\n",
        "plt.subplot(2, 2, 4)\n",
        "fig = sns.boxplot(x=weather_data[\"Temp3pm\"])\n",
        "fig.set_title('')\n",
        "fig.set_ylabel(\"Temp3pm\")"
      ]
    },
    {
      "cell_type": "code",
      "execution_count": null,
      "metadata": {
        "id": "ulIXbfPopu06"
      },
      "outputs": [],
      "source": [
        "\n",
        "\n",
        "plt.figure(figsize=(15,10))\n",
        "\n",
        "plt.subplot(2, 2, 1)\n",
        "fig = sns.boxplot(x=weather_data[\"MinTemp\"])\n",
        "fig.set_title('')\n",
        "fig.set_ylabel(\"MinTemp\")\n",
        "\n",
        "plt.subplot(2, 2, 2)\n",
        "fig = sns.boxplot(x=weather_data[\"MaxTemp\"])\n",
        "fig.set_title('')\n",
        "fig.set_ylabel(\"MaxTemp\")\n",
        "\n",
        "plt.subplot(2, 2, 3)\n",
        "fig = sns.boxplot(x=weather_data[\"WindGustSpeed\"])\n",
        "fig.set_title('')\n",
        "fig.set_ylabel(\"WindGustSpeed\")\n",
        "\n",
        "plt.subplot(2, 2, 4)\n",
        "fig = sns.boxplot(x=weather_data[\"Humidity9am\"])\n",
        "fig.set_title('')\n",
        "fig.set_ylabel(\"Humidity9am\")\n"
      ]
    },
    {
      "cell_type": "code",
      "execution_count": null,
      "metadata": {
        "id": "JHI8ILUEuAv8"
      },
      "outputs": [],
      "source": [
        "#the first four attribute have lowest number of valid values we goint to compute the loss in each these four attribute in percentage \n",
        "null_values=[(i,weather_data[i].isna().mean()*100)for i in weather_data]\n",
        "null=pd.DataFrame(null_values,columns=['column','%'])"
      ]
    },
    {
      "cell_type": "code",
      "execution_count": null,
      "metadata": {
        "id": "YeEgZ-p7uHLC"
      },
      "outputs": [],
      "source": [
        "null[null['%']>15].sort_values('%')"
      ]
    },
    {
      "cell_type": "code",
      "execution_count": null,
      "metadata": {
        "id": "X7hv_HEHiHCi"
      },
      "outputs": [],
      "source": [
        "# after we find the missing values in Numerical Features can be imputed using Mean and Median\n",
        "# before should handle the outliers\n",
        "features_with_outliers = ['MinTemp', 'MaxTemp', 'Rainfall', 'Evaporation', 'WindGustSpeed','WindSpeed9am', 'WindSpeed3pm', 'Humidity9am', 'Pressure9am', 'Pressure3pm', 'Temp9am', 'Temp3pm']\n",
        "for feature in features_with_outliers:\n",
        "    q1 = weather_data[feature].quantile(0.25)\n",
        "    q3 = weather_data[feature].quantile(0.75)\n",
        "    IQR = q3-q1\n",
        "    lower_limit = q1 - (IQR*1.5)\n",
        "    upper_limit = q3 + (IQR*1.5)\n",
        "    weather_data.loc[weather_data[feature]<lower_limit,feature] = lower_limit\n",
        "    weather_data.loc[weather_data[feature]>upper_limit,feature] = upper_limit"
      ]
    },
    {
      "cell_type": "code",
      "execution_count": null,
      "metadata": {
        "id": "ohuoywUwroDy"
      },
      "outputs": [],
      "source": [
        "# now we can hamdel the missing values\n",
        "numerical_features_with_null = [feature for feature in numerical_features if weather_data[feature].isnull().sum()]\n",
        "for feature in numerical_features_with_null:\n",
        "    mean_value = weather_data[feature].mean()\n",
        "    weather_data[feature].fillna(mean_value,inplace=True)"
      ]
    },
    {
      "cell_type": "code",
      "execution_count": null,
      "metadata": {
        "id": "QbVrwJN8slKW"
      },
      "outputs": [],
      "source": [
        "#show data frame after handling missing values by mean\n",
        "weather_data.head()"
      ]
    },
    {
      "cell_type": "code",
      "execution_count": null,
      "metadata": {
        "id": "Ne1-5rz6_0oV"
      },
      "outputs": [],
      "source": [
        "#count missing values for each column >> by function isnull()\n",
        "print('the missing values for each column is :')\n",
        "print('_____________________________________________')\n",
        "weather_data.isna().sum()"
      ]
    },
    {
      "cell_type": "code",
      "execution_count": null,
      "metadata": {
        "id": "AdfC2pcK0uhH"
      },
      "outputs": [],
      "source": [
        "#count valid values for each column\n",
        "print('the valid values for each column is :')\n",
        "print(weather_data.count().sort_values())"
      ]
    },
    {
      "cell_type": "code",
      "execution_count": null,
      "metadata": {
        "id": "7njJ5b3CDUkL"
      },
      "outputs": [],
      "source": [
        "#the first four attribute have lowest number of valid values we goint to compute the loss in each these four attribute in percentage \n",
        "null_values=[(i,weather_data[i].isna().mean()*100)for i in weather_data]\n",
        "null=pd.DataFrame(null_values,columns=['column','%'])"
      ]
    },
    {
      "cell_type": "code",
      "execution_count": null,
      "metadata": {
        "id": "7cJRTFHvCLdh"
      },
      "outputs": [],
      "source": [
        "null[null['%']>15].sort_values('%')\n",
        "#now no have any missing values"
      ]
    },
    {
      "cell_type": "code",
      "execution_count": null,
      "metadata": {
        "id": "xgZQNOMIdRsQ"
      },
      "outputs": [],
      "source": [
        "\n",
        "#first, we going to drop the attributes that are irrelevant in analysis by \"drop function and parameter of function drop\"\n",
        "#Need to specify at least one of 'labels', 'index' or 'columns'\n",
        "#weather_data=weather_data.drop(columns=['Date','Location'], axis=1)\n",
        "#weather_data=weather_data.dropna(how='any')\n",
        "\n",
        "# to show apdate on data set _ can use shape to return number of column and values\n",
        "#print('size of weather data frame after updated is :',weather_data.shape)\n",
        "\n",
        "#if we need to drop rows <-- set lables by numbers of instance want to drop from 0 to 145460"
      ]
    },
    {
      "cell_type": "code",
      "execution_count": null,
      "metadata": {
        "id": "D6EYXTSA6mtH"
      },
      "outputs": [],
      "source": [
        "#second, we goint to drop variables that have more missing values from data set\n",
        "################## no need to eliminate cloud9am becuase have 38.421559 % of missing ??????????\n",
        "\n",
        "#weather_data=weather_data.drop(columns=['Evaporation','Sunshine','Cloud3pm'], axis=1)\n",
        "#weather_data=weather_data.dropna(how='any')\n",
        "#print('size of weather data frame after eliminate the variables contains more missing values is :',weather_data.shape)"
      ]
    },
    {
      "cell_type": "code",
      "execution_count": null,
      "metadata": {
        "id": "w1w4umG9Q5TS"
      },
      "outputs": [],
      "source": [
        "##we going to replacing the missing values in Cloud9am with mean value, because does not have more missing values \n",
        "#mean=weather_data['Cloud9am'].mean()\n",
        "#print('the mean value for Cloud9am is : ',mean)\n",
        "# fill by using function fillna(), wich is enter new values to each null values\n",
        "#weather_data['Cloud9am'].fillna(mean,inplace=True)\n",
        "#print('___________________________________________________________________________________')\n",
        "# we going to check subset of columns not entire dataframe\n",
        "#print('the values of missing values in subset of column Cloud9am of is : ',weather_data['Cloud9am'].isnull().sum())\n",
        "#print('___________________________________________________________________________________')\n",
        "#weather_data.Cloud9am"
      ]
    },
    {
      "cell_type": "code",
      "execution_count": null,
      "metadata": {
        "id": "JS0Gnn3AN-f7"
      },
      "outputs": [],
      "source": [
        "print('result of each column, after handling missing values :')\n",
        "#weather_data.isnull().\n",
        "weather_data.isnull().sum().sort_values(ascending=False)\n",
        "print('___________________________________________________________________')\n",
        "weather_data.head"
      ]
    },
    {
      "cell_type": "code",
      "execution_count": null,
      "metadata": {
        "id": "JQraLxo0x30F"
      },
      "outputs": [],
      "source": [
        "#we going to visualization for target 'RainTomorrow' by using seaborn which is library based on matplotlib \n",
        "sns.set()"
      ]
    },
    {
      "cell_type": "code",
      "execution_count": null,
      "metadata": {
        "id": "2uJNvRX_upw7"
      },
      "outputs": [],
      "source": [
        "#Exploring target variable\n",
        "# shows count of (0 no rain tomorrow) and (1 rain tomorrow)\n",
        "sns.countplot('RainTomorrow',data=weather_data)"
      ]
    },
    {
      "cell_type": "code",
      "execution_count": null,
      "metadata": {
        "id": "uqWAR1DjzBmE"
      },
      "outputs": [],
      "source": [
        "#we going to visualization 'RainTomorrow' according RainToday\n",
        "sns.countplot('RainToday',hue='RainTomorrow',data=weather_data)\n",
        "#we observe if raintoday '0' then raintomorrow is '0' almost 38000 from 43993 and '1' almost 5800 from 12427\n",
        "#if raintoday '1' then raintomorrow is '0' almost 5800 from 43993 and '1' almost 5100 from 12427\n",
        "#which is this logical division corresponds to visualization for RainTomorrow on the above "
      ]
    },
    {
      "cell_type": "code",
      "execution_count": null,
      "metadata": {
        "id": "8lot63nZ1JFg"
      },
      "outputs": [],
      "source": [
        "#show relationship between Sunshine and Rainfall\n",
        "sns.lineplot(data=weather_data,x='Sunshine',y='Rainfall',color='green')"
      ]
    },
    {
      "cell_type": "code",
      "execution_count": null,
      "metadata": {
        "id": "15w9YZdf1Jec"
      },
      "outputs": [],
      "source": [
        "#show relationship between Sunshine and Evaporation\n",
        "sns.lineplot(data=weather_data,x='Sunshine',y='Evaporation',color='blue')"
      ]
    },
    {
      "cell_type": "markdown",
      "metadata": {
        "id": "exmeyesUuWhG"
      },
      "source": [
        "Correlation"
      ]
    },
    {
      "cell_type": "code",
      "execution_count": null,
      "metadata": {
        "id": "SrNyPsdW5b5J"
      },
      "outputs": [],
      "source": [
        "plt.figure(figsize=(20,20))\n",
        "sns.heatmap(weather_data.corr(), linewidths=0.5, annot=False, fmt=\".2f\", cmap = 'viridis')"
      ]
    },
    {
      "cell_type": "markdown",
      "metadata": {
        "id": "PDQe6MjVNEOl"
      },
      "source": [
        "convet string values to numerical values"
      ]
    },
    {
      "cell_type": "code",
      "execution_count": null,
      "metadata": {
        "id": "OWKtN674S8jq"
      },
      "outputs": [],
      "source": [
        "# the model to work, we must give it numeric values\n",
        "# first, we convert data has tow binary variables 'RainToday' and 'RainTomorrow' (yea-no) into quantitative variables (0-1)\n",
        "\n",
        "# Replace No and Yes for 0 and 1 in RainToday and RainTomorrow by using replace function\n",
        "weather_data['RainToday'].replace({'No': 0, 'Yes': 1},inplace = True)\n",
        "weather_data['RainTomorrow'].replace({'No': 0, 'Yes': 1},inplace = True)\n",
        "\n",
        "#show column after converting\n",
        "weather_data.RainTomorrow"
      ]
    },
    {
      "cell_type": "code",
      "execution_count": null,
      "metadata": {
        "id": "ThgywAER8mfu"
      },
      "outputs": [],
      "source": [
        "#show number of 0's and 1's after converting\n",
        "weather_data['RainTomorrow'].value_counts()"
      ]
    },
    {
      "cell_type": "code",
      "execution_count": null,
      "metadata": {
        "id": "aPOZg4fQ9CkU"
      },
      "outputs": [],
      "source": [
        "#show column after converting\n",
        "weather_data.RainToday"
      ]
    },
    {
      "cell_type": "code",
      "execution_count": null,
      "metadata": {
        "id": "H387Iyma9Swa"
      },
      "outputs": [],
      "source": [
        "#show number of 0's and 1's after converting\n",
        "weather_data['RainToday'].value_counts()"
      ]
    },
    {
      "cell_type": "markdown",
      "metadata": {
        "id": "B9qTH7Sp2x9C"
      },
      "source": [
        " Categorical variables"
      ]
    },
    {
      "cell_type": "code",
      "execution_count": null,
      "metadata": {
        "id": "G4OLQHJtp0Kq"
      },
      "outputs": [],
      "source": [
        "\n",
        "#Categorical variables WindGustDir, WindDir3pm and WindDir9am \n",
        "#each of them Categorical variables with 16 categories, we going to conver each category into additional variable by dummy variables.\n",
        "# we use dummy because have several Categorical variables not just a binary as raintoday can we use function replace()\n",
        "categoric_values = ['WindGustDir', 'WindDir3pm', 'WindDir9am','Location']\n",
        "weather_finaldata = pd.get_dummies(weather_data, columns=categoric_values)\n",
        "weather_data.RainTomorrow\n",
        "print('__________________________________________________________________')\n",
        "display(weather_finaldata.head)"
      ]
    },
    {
      "cell_type": "markdown",
      "metadata": {
        "id": "UX7vZst2p6Nb"
      },
      "source": [
        "seperating features and target"
      ]
    },
    {
      "cell_type": "code",
      "execution_count": null,
      "metadata": {
        "id": "3c0OkB3gpdgW"
      },
      "outputs": [],
      "source": [
        "#save target column in y\n",
        "Y = weather_finaldata['RainTomorrow']\n",
        "#drop target column, then x it is contain only the all features \n",
        "# x is featurs that we going to build model over it\n",
        "X = weather_finaldata.drop(columns=['RainTomorrow'],axis=1)\n",
        "print('______________________________________________________________________')\n",
        "print('value of y is : \\n',Y)\n",
        "print('______________________________________________________________________')"
      ]
    },
    {
      "cell_type": "code",
      "execution_count": null,
      "metadata": {
        "id": "bGuHlhKAG2LY"
      },
      "outputs": [],
      "source": [
        "print('______________________________________________________________________')\n",
        "print('values of x is \\n:',X)\n",
        "print('______________________________________________________________________')"
      ]
    },
    {
      "cell_type": "code",
      "execution_count": null,
      "metadata": {
        "id": "seset3QdGaWI"
      },
      "outputs": [],
      "source": [
        "# split x,y into test and train by sklearn.model_selection and give train_test_split x,y and the percentage given to each train and test\n",
        "X_train, X_test, Y_train, Y_test = train_test_split(X, Y, test_size=0.10, random_state=2)\n",
        "\n",
        "print('total x', X.shape)\n",
        "print('X train shape: ', X_train.shape)\n",
        "print('X test shape: ', X_test.shape) \n",
        "\n",
        "print('___________________________________________ \\n')\n",
        "\n",
        "print('total y', Y.shape)\n",
        "print('Y train shape: ', Y_train.shape)\n",
        "print('Y test shape: ', Y_test.shape)\n",
        "\n",
        "#then give x,y to the model \n",
        "# build model by x train and y train \n",
        "# and test model by x test and y test ??\n",
        "\n",
        "# take 5642 for test from total x 56420 -- and take 50778 for train from 56420\n",
        "# take from total y 56420 -- 50778 for training and 5642 for test"
      ]
    },
    {
      "cell_type": "code",
      "execution_count": null,
      "metadata": {
        "id": "ZypQo3Jc9A7d"
      },
      "outputs": [],
      "source": [
        "#from sklearn.ensemble import ExtraTreesRegressor\n",
        "#etr_model = ExtraTreesRegressor()\n",
        "#etr_model.fit(X,Y)\n",
        "#etr_model.feature_importances_"
      ]
    },
    {
      "cell_type": "code",
      "execution_count": null,
      "metadata": {
        "id": "8wkZtnvf9UXW"
      },
      "outputs": [],
      "source": [
        "#feature_imp = pd.Series(etr_model.feature_importances_,index=X.columns)\n",
        "#feature_imp.nlargest(10).plot(kind='barh')"
      ]
    },
    {
      "cell_type": "markdown",
      "metadata": {
        "id": "sg0T52k3pCXj"
      },
      "source": [
        "build the SVM model "
      ]
    },
    {
      "cell_type": "code",
      "execution_count": null,
      "metadata": {
        "id": "l86AlyiipAu8",
        "colab": {
          "base_uri": "https://localhost:8080/"
        },
        "outputId": "4eb2101a-9e76-4554-ea79-755456aa702e"
      },
      "outputs": [
        {
          "output_type": "execute_result",
          "data": {
            "text/plain": [
              "SVC(kernel='linear', random_state=0)"
            ]
          },
          "metadata": {},
          "execution_count": 81
        }
      ],
      "source": [
        "# define the SVM model\n",
        "# We train model on X_train and his result Y_train\n",
        "#svmcla = SVC()\n",
        "#svmcla.fit(X_train, Y_train)\n",
        "\n",
        "#Import svm model\n",
        "from sklearn.svm import SVC\n",
        "#Create a svm Classifier\n",
        "svmcla = SVC(kernel = 'linear', random_state =0)\n",
        "#Train the model using the training sets only\n",
        "svmcla.fit(X_train, Y_train)\n"
      ]
    },
    {
      "cell_type": "markdown",
      "metadata": {
        "id": "8PS2W109RaHb"
      },
      "source": [
        "model evaluation"
      ]
    },
    {
      "cell_type": "code",
      "execution_count": null,
      "metadata": {
        "id": "t5-qNJzvR2bG",
        "colab": {
          "base_uri": "https://localhost:8080/"
        },
        "outputId": "a2ca1ba8-855c-468b-d0be-bfeab1df37ee"
      },
      "outputs": [
        {
          "output_type": "stream",
          "name": "stdout",
          "text": [
            "[0 0 0 ... 1 0 0]\n"
          ]
        }
      ],
      "source": [
        "#We predict result of X_train by the model \n",
        "# run the model on same data for built, which means on X_train not x_test\n",
        "Y_predict2 = svmcla.predict(X_train)\n",
        "print(Y_predict2)"
      ]
    },
    {
      "cell_type": "code",
      "execution_count": null,
      "metadata": {
        "id": "8Va0oPOITdEl",
        "colab": {
          "base_uri": "https://localhost:8080/"
        },
        "outputId": "684ab254-e881-448c-f619-ad653799292b"
      },
      "outputs": [
        {
          "metadata": {
            "tags": null
          },
          "name": "stdout",
          "output_type": "stream",
          "text": [
            "the accuracy on seen data is :  0.8486028996134867\n"
          ]
        }
      ],
      "source": [
        "#check accuracy on training data by accuracy_score function \n",
        "#give the function real result y_train and result that our model is predicted Y_predict2 to compare between them to determine the accuracy\n",
        "# accuracy may be high because we predict same values that model built over it\n",
        "\n",
        "accuracy= accuracy_score(Y_train,Y_predict2)\n",
        "print('the accuracy on seen data is : ',accuracy)"
      ]
    },
    {
      "cell_type": "code",
      "execution_count": null,
      "metadata": {
        "id": "4nXIDbsFOR96",
        "colab": {
          "base_uri": "https://localhost:8080/"
        },
        "outputId": "e34f8852-0770-4de5-9e59-7c2d75235c41"
      },
      "outputs": [
        {
          "output_type": "stream",
          "name": "stdout",
          "text": [
            "[0 0 0 ... 0 1 0]\n"
          ]
        }
      ],
      "source": [
        "# We predict values for X_test by svm model \n",
        "# which is the target values is x_test --> 5642 .. the model is not built on these values \n",
        "\n",
        "Y_predict2 = svmcla.predict(X_test)\n",
        "print(Y_predict2)"
      ]
    },
    {
      "cell_type": "code",
      "execution_count": null,
      "metadata": {
        "id": "Y1JDZYKvWgxS",
        "colab": {
          "base_uri": "https://localhost:8080/"
        },
        "outputId": "7f664f92-9abc-4045-9a72-36fbc47d0370"
      },
      "outputs": [
        {
          "metadata": {
            "tags": null
          },
          "name": "stdout",
          "output_type": "stream",
          "text": [
            "the accuracy on unseen data is :  0.8453183005637288\n"
          ]
        }
      ],
      "source": [
        "# check accuracy on test data\n",
        "#give the function unseen data\n",
        "\n",
        "accuracy= accuracy_score(Y_test,Y_predict2)\n",
        "print('the accuracy on unseen data is : ',accuracy)"
      ]
    },
    {
      "cell_type": "markdown",
      "metadata": {
        "id": "AlbU0PSqpwE7"
      },
      "source": [
        "For further evaluation apply some metrics"
      ]
    },
    {
      "cell_type": "code",
      "execution_count": null,
      "metadata": {
        "id": "AFsQX5l5QuPZ",
        "colab": {
          "base_uri": "https://localhost:8080/",
          "height": 410
        },
        "outputId": "1e104977-b639-4117-c077-61ac2e04fdbe"
      },
      "outputs": [
        {
          "output_type": "stream",
          "name": "stdout",
          "text": [
            "the confusion matrix is : \n",
            "  [[10780   580]\n",
            " [ 1670  1516]]\n"
          ]
        },
        {
          "output_type": "display_data",
          "data": {
            "text/plain": [
              "<Figure size 360x360 with 2 Axes>"
            ],
            "image/png": "[encoded data removed]"
          },
          "metadata": {}
        }
      ],
      "source": [
        "# apply confusion matrix\n",
        "confusion=metrics.confusion_matrix(Y_test, Y_predict2)\n",
        "print('the confusion matrix is : \\n ',confusion)\n",
        "#to show confusion matrix\n",
        "f, ax = plt.subplots(figsize=(5,5))\n",
        "sns.heatmap(confusion, annot=True, linewidth=0.7, linecolor='cyan', fmt='g', ax=ax, cmap=\"YlGnBu\")\n",
        "plt.title(' Confusion Matrix')\n",
        "plt.xlabel('Y_predict2')\n",
        "plt.ylabel('Y_test')\n",
        "plt.show()"
      ]
    },
    {
      "cell_type": "code",
      "execution_count": null,
      "metadata": {
        "id": "v0WAXR_rV3xQ",
        "colab": {
          "base_uri": "https://localhost:8080/"
        },
        "outputId": "cac9adcc-d927-44f5-db79-01b32460eb30"
      },
      "outputs": [
        {
          "output_type": "stream",
          "name": "stdout",
          "text": [
            "the recall score is : \n",
            "  0.4758317639673572\n"
          ]
        }
      ],
      "source": [
        "recall=metrics.recall_score(Y_test, Y_predict2)\n",
        "print('the recall score is : \\n ',recall)"
      ]
    },
    {
      "cell_type": "code",
      "execution_count": null,
      "metadata": {
        "id": "k630K2gBXUJf",
        "colab": {
          "base_uri": "https://localhost:8080/"
        },
        "outputId": "ea02009b-cbf9-4f7c-bef7-95f38ec22061"
      },
      "outputs": [
        {
          "output_type": "stream",
          "name": "stdout",
          "text": [
            "the precision score is : \n",
            "  0.7232824427480916\n"
          ]
        }
      ],
      "source": [
        "precision=metrics.precision_score(Y_test, Y_predict2)\n",
        "print('the precision score is : \\n ',precision)"
      ]
    },
    {
      "cell_type": "code",
      "execution_count": null,
      "metadata": {
        "id": "tFtbXQ3LX2y6",
        "colab": {
          "base_uri": "https://localhost:8080/"
        },
        "outputId": "e9949046-9f38-4af1-ba65-b3bf240dd165"
      },
      "outputs": [
        {
          "output_type": "stream",
          "name": "stdout",
          "text": [
            "the f1 score is : \n",
            "  0.5740249905338888\n"
          ]
        }
      ],
      "source": [
        "f1=metrics.f1_score(Y_test, Y_predict2)\n",
        "print('the f1 score is : \\n ',f1)"
      ]
    },
    {
      "cell_type": "code",
      "execution_count": null,
      "metadata": {
        "id": "-6l4lliTYhKQ",
        "colab": {
          "base_uri": "https://localhost:8080/"
        },
        "outputId": "6febd3b7-6f7c-4484-e859-baa28d08b53e"
      },
      "outputs": [
        {
          "metadata": {
            "tags": null
          },
          "name": "stdout",
          "output_type": "stream",
          "text": [
            "give whole report of the model \n",
            ":               precision    recall  f1-score   support\n",
            "\n",
            "           0       0.87      0.95      0.91     11360\n",
            "           1       0.72      0.48      0.57      3186\n",
            "\n",
            "    accuracy                           0.85     14546\n",
            "   macro avg       0.79      0.71      0.74     14546\n",
            "weighted avg       0.83      0.85      0.83     14546\n",
            "\n"
          ]
        }
      ],
      "source": [
        "report=metrics.classification_report(Y_test, Y_predict2)\n",
        "print('give whole report of the model \\n:',report)"
      ]
    },
    {
      "cell_type": "markdown",
      "metadata": {
        "id": "QjRdLIhlpeUV"
      },
      "source": [
        "show if have overfitting and underfitting"
      ]
    },
    {
      "cell_type": "code",
      "execution_count": null,
      "metadata": {
        "id": "VhmgoDO5Biwk",
        "colab": {
          "base_uri": "https://localhost:8080/"
        },
        "outputId": "c25a8e32-1558-422e-d3ac-ed520e174372"
      },
      "outputs": [
        {
          "output_type": "stream",
          "name": "stdout",
          "text": [
            "Train Data Score: 0.8486028996134867\n",
            "Test Data Score: 0.8453183005637288\n"
          ]
        }
      ],
      "source": [
        "print(\"Train Data Score: {}\".format(svmcla.score(X_train, Y_train)))\n",
        "print(\"Test Data Score: {}\".format(svmcla.score(X_test, Y_test)))"
      ]
    },
    {
      "cell_type": "markdown",
      "metadata": {
        "id": "RsJg0UfRGqGi"
      },
      "source": [
        "Cross-Validation and ROC"
      ]
    },
    {
      "cell_type": "code",
      "source": [
        " from sklearn.metrics import plot_confusion_matrix, plot_roc_curve, classification_report"
      ],
      "metadata": {
        "id": "oIfrZLictn3H"
      },
      "execution_count": null,
      "outputs": []
    },
    {
      "cell_type": "code",
      "execution_count": null,
      "metadata": {
        "id": "HEYIjSFjGfOP",
        "colab": {
          "base_uri": "https://localhost:8080/",
          "height": 323
        },
        "outputId": "93334188-ed60-4a3e-a4a6-82930fd3a458"
      },
      "outputs": [
        {
          "output_type": "stream",
          "name": "stdout",
          "text": [
            "[0. 0. 1.]\n",
            "[0. 1. 1.]\n",
            "[1.6 0.6 0.1]\n"
          ]
        },
        {
          "output_type": "display_data",
          "data": {
            "text/plain": [
              "<Figure size 432x288 with 1 Axes>"
            ],
            "image/png": "[encoded data removed]"
          },
          "metadata": {}
        }
      ],
      "source": [
        "\n",
        "Y_true = [1,0,0]\n",
        "Y_predict = [.6,.1,.1]\n",
        "\n",
        "fpr, tpr, thresholds = metrics.roc_curve(Y_true, Y_predict , pos_label=1)\n",
        "\n",
        "print(fpr)\n",
        "print(tpr)\n",
        "print(thresholds)\n",
        "\n",
        "# Print ROC curve\n",
        "plt.plot(fpr,tpr)\n",
        "plt.show()\n",
        "\n",
        "    #print('ROC Curve')\n",
        "   # print('-'*53)\n",
        "   # roc_curve_custom(model, X_test, y_test)\n",
        "    #print('\\n')\n"
      ]
    },
    {
      "cell_type": "code",
      "execution_count": null,
      "metadata": {
        "id": "9LfFMFfoE7Pt",
        "colab": {
          "base_uri": "https://localhost:8080/",
          "height": 244
        },
        "outputId": "c940d1a7-03ef-49c0-a7bb-858a1c4ca43e"
      },
      "outputs": [
        {
          "output_type": "error",
          "ename": "NameError",
          "evalue": "ignored",
          "traceback": [
            "\u001b[0;31m---------------------------------------------------------------------------\u001b[0m",
            "\u001b[0;31mNameError\u001b[0m                                 Traceback (most recent call last)",
            "\u001b[0;32m<ipython-input-5-6ead007ff7a6>\u001b[0m in \u001b[0;36m<module>\u001b[0;34m\u001b[0m\n\u001b[1;32m      1\u001b[0m \u001b[0;31m# Cross-Validation\u001b[0m\u001b[0;34m\u001b[0m\u001b[0;34m\u001b[0m\u001b[0;34m\u001b[0m\u001b[0m\n\u001b[1;32m      2\u001b[0m \u001b[0;32mfrom\u001b[0m \u001b[0msklearn\u001b[0m\u001b[0;34m.\u001b[0m\u001b[0mmodel_selection\u001b[0m \u001b[0;32mimport\u001b[0m \u001b[0mcross_val_score\u001b[0m\u001b[0;34m\u001b[0m\u001b[0;34m\u001b[0m\u001b[0m\n\u001b[0;32m----> 3\u001b[0;31m \u001b[0mscores\u001b[0m \u001b[0;34m=\u001b[0m \u001b[0mcross_val_score\u001b[0m\u001b[0;34m(\u001b[0m\u001b[0msvmcla\u001b[0m\u001b[0;34m,\u001b[0m \u001b[0mX_train\u001b[0m\u001b[0;34m,\u001b[0m \u001b[0mY_train\u001b[0m\u001b[0;34m,\u001b[0m \u001b[0mcv\u001b[0m \u001b[0;34m=\u001b[0m \u001b[0;36m5\u001b[0m\u001b[0;34m,\u001b[0m \u001b[0mscoring\u001b[0m\u001b[0;34m=\u001b[0m\u001b[0;34m'accuracy'\u001b[0m\u001b[0;34m)\u001b[0m\u001b[0;34m\u001b[0m\u001b[0;34m\u001b[0m\u001b[0m\n\u001b[0m\u001b[1;32m      4\u001b[0m \u001b[0mprint\u001b[0m\u001b[0;34m(\u001b[0m\u001b[0;34m'Cross-validation scores:{}'\u001b[0m\u001b[0;34m.\u001b[0m\u001b[0mformat\u001b[0m\u001b[0;34m(\u001b[0m\u001b[0mscores\u001b[0m\u001b[0;34m)\u001b[0m\u001b[0;34m)\u001b[0m\u001b[0;34m\u001b[0m\u001b[0;34m\u001b[0m\u001b[0m\n\u001b[1;32m      5\u001b[0m \u001b[0mprint\u001b[0m\u001b[0;34m(\u001b[0m\u001b[0;34m'Average cross-validation score: {}'\u001b[0m\u001b[0;34m.\u001b[0m\u001b[0mformat\u001b[0m\u001b[0;34m(\u001b[0m\u001b[0mscores\u001b[0m\u001b[0;34m.\u001b[0m\u001b[0mmean\u001b[0m\u001b[0;34m(\u001b[0m\u001b[0;34m)\u001b[0m\u001b[0;34m)\u001b[0m\u001b[0;34m)\u001b[0m\u001b[0;34m\u001b[0m\u001b[0;34m\u001b[0m\u001b[0m\n",
            "\u001b[0;31mNameError\u001b[0m: name 'svmcla' is not defined"
          ]
        }
      ],
      "source": [
        "# Cross-Validation\n",
        "from sklearn.model_selection import cross_val_score\n",
        "scores = cross_val_score(svmcla, X_train, Y_train, cv = 5, scoring='accuracy')\n",
        "print('Cross-validation scores:{}'.format(scores))\n",
        "print('Average cross-validation score: {}'.format(scores.mean()))"
      ]
    }
  ],
  "metadata": {
    "colab": {
      "provenance": []
    },
    "kernelspec": {
      "display_name": "Python 3",
      "name": "python3"
    },
    "language_info": {
      "name": "python"
    }
  },
  "nbformat": 4,
  "nbformat_minor": 0
}